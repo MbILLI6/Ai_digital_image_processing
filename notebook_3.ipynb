{
 "cells": [
  {
   "cell_type": "markdown",
   "metadata": {},
   "source": [
    "This notebook contents ansvers to exercises of https://github.com/mrdbourke/pytorch-deep-learning/blob/main/03_pytorch_computer_vision.ipynb"
   ]
  },
  {
   "cell_type": "markdown",
   "metadata": {},
   "source": [
    "1. What are 3 areas in industry where computer vision is currently being used?\n",
    "Quality control\n",
    "Computer vision can be used for quality control of products at factories. \n",
    "Medicine\n",
    "Computer vision is extensively used in analyzing medical images, such as X-rays, MRIs, and CT scans.\n",
    "Automotive \n",
    "Self-driving cars rely heavily on computer vision to perceive their surroundings."
   ]
  }
 ],
 "metadata": {
  "language_info": {
   "name": "python"
  }
 },
 "nbformat": 4,
 "nbformat_minor": 2
}
